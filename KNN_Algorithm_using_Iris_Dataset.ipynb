{
  "nbformat": 4,
  "nbformat_minor": 0,
  "metadata": {
    "kernelspec": {
      "display_name": "Python 3",
      "language": "python",
      "name": "python3"
    },
    "language_info": {
      "codemirror_mode": {
        "name": "ipython",
        "version": 3
      },
      "file_extension": ".py",
      "mimetype": "text/x-python",
      "name": "python",
      "nbconvert_exporter": "python",
      "pygments_lexer": "ipython3",
      "version": "3.7.4"
    },
    "colab": {
      "name": "Copy of KNN Algorithm using Iris Dataset.ipynb",
      "provenance": []
    }
  },
  "cells": [
    {
      "cell_type": "markdown",
      "metadata": {
        "id": "eLLWk47snZI6"
      },
      "source": [
        "<h3>KNN using Train-Test Split</h3>"
      ]
    },
    {
      "cell_type": "code",
      "metadata": {
        "id": "6rI0axpZnZI8"
      },
      "source": [
        "#Importing the Libraries\n",
        "import pandas as pd\n",
        "import numpy as np\n",
        "import matplotlib.pyplot as plt\n",
        "from sklearn.neighbors import KNeighborsClassifier\n",
        "from sklearn import preprocessing\n",
        "from sklearn import datasets\n",
        "from sklearn.model_selection import train_test_split"
      ],
      "execution_count": null,
      "outputs": []
    },
    {
      "cell_type": "code",
      "metadata": {
        "id": "49kR1R76nZI9"
      },
      "source": [
        "#Read the dataset \n",
        "iris = datasets.load_iris()\n"
      ],
      "execution_count": null,
      "outputs": []
    },
    {
      "cell_type": "markdown",
      "metadata": {
        "id": "Mm0ZhEPnnZJA"
      },
      "source": [
        "<h3>Train Test Split</h3>"
      ]
    },
    {
      "cell_type": "code",
      "metadata": {
        "id": "nHQF-k0unZJA",
        "colab": {
          "base_uri": "https://localhost:8080/"
        },
        "outputId": "f46054f0-f85a-434f-d250-5fbde7617f30"
      },
      "source": [
        "from sklearn.model_selection import train_test_split\n",
        "X_train, X_test, y_train, y_test = train_test_split( iris.data, iris.target, test_size=0.3, random_state=1)\n",
        "y_test.shape"
      ],
      "execution_count": null,
      "outputs": [
        {
          "output_type": "execute_result",
          "data": {
            "text/plain": [
              "(45,)"
            ]
          },
          "metadata": {},
          "execution_count": 38
        }
      ]
    },
    {
      "cell_type": "markdown",
      "metadata": {
        "id": "_4A8dyc1nZJA"
      },
      "source": [
        "<h3> Training and Predicting </h3>"
      ]
    },
    {
      "cell_type": "code",
      "metadata": {
        "id": "nkkhPwhhnZJA"
      },
      "source": [
        "knnmodel=KNeighborsClassifier(n_neighbors=40)"
      ],
      "execution_count": null,
      "outputs": []
    },
    {
      "cell_type": "code",
      "metadata": {
        "id": "5Q9Qm3PHnZJA",
        "colab": {
          "base_uri": "https://localhost:8080/"
        },
        "outputId": "f835b41d-98ce-4db1-d545-55d828d9a996"
      },
      "source": [
        "knnmodel.fit(X_train,y_train)"
      ],
      "execution_count": null,
      "outputs": [
        {
          "output_type": "execute_result",
          "data": {
            "text/plain": [
              "KNeighborsClassifier(n_neighbors=40)"
            ]
          },
          "metadata": {},
          "execution_count": 48
        }
      ]
    },
    {
      "cell_type": "code",
      "metadata": {
        "id": "Os4BfRyXnZJB"
      },
      "source": [
        "y_predict1=knnmodel.predict(X_test)"
      ],
      "execution_count": null,
      "outputs": []
    },
    {
      "cell_type": "markdown",
      "metadata": {
        "id": "EPS96q1dnZJC"
      },
      "source": [
        "<h3> Accuracy</h3>"
      ]
    },
    {
      "cell_type": "code",
      "metadata": {
        "id": "EqxrXDpcnZJC"
      },
      "source": [
        "from sklearn.metrics import accuracy_score"
      ],
      "execution_count": null,
      "outputs": []
    },
    {
      "cell_type": "code",
      "metadata": {
        "id": "NRGcXhxcnZJC",
        "colab": {
          "base_uri": "https://localhost:8080/"
        },
        "outputId": "dd0ede26-77f7-461c-81d7-177d53fbb1c4"
      },
      "source": [
        "acc=accuracy_score(y_test,y_predict1)\n",
        "acc"
      ],
      "execution_count": null,
      "outputs": [
        {
          "output_type": "execute_result",
          "data": {
            "text/plain": [
              "0.9555555555555556"
            ]
          },
          "metadata": {},
          "execution_count": 51
        }
      ]
    },
    {
      "cell_type": "markdown",
      "metadata": {
        "id": "COKFYrXNnZJD"
      },
      "source": [
        "<h3> Finding the value of k</h3>"
      ]
    },
    {
      "cell_type": "code",
      "metadata": {
        "id": "cgExNk4knZJD"
      },
      "source": [
        "Ks=50\n",
        "mean_acc=np.zeros((Ks-1))\n",
        "\n",
        "\n",
        "#train and predict\n",
        "for n in range(1,Ks):\n",
        "    neigh=KNeighborsClassifier(n_neighbors=n).fit(X_train,y_train)\n",
        "    yhat=neigh.predict(X_test)\n",
        "    mean_acc[n-1]=accuracy_score(y_test,yhat)"
      ],
      "execution_count": null,
      "outputs": []
    },
    {
      "cell_type": "code",
      "metadata": {
        "id": "pArthxRUnZJD",
        "colab": {
          "base_uri": "https://localhost:8080/"
        },
        "outputId": "8eca0b45-1c82-44cc-e04b-6abf82c11cca"
      },
      "source": [
        "print(mean_acc)"
      ],
      "execution_count": null,
      "outputs": [
        {
          "output_type": "stream",
          "name": "stdout",
          "text": [
            "[0.97777778 0.97777778 0.97777778 0.97777778 0.97777778 0.97777778\n",
            " 0.97777778 0.97777778 0.97777778 0.97777778 0.97777778 0.97777778\n",
            " 0.97777778 0.97777778 0.97777778 0.97777778 0.97777778 0.97777778\n",
            " 0.97777778 0.97777778 0.97777778 0.97777778 0.97777778 0.97777778\n",
            " 0.97777778 0.97777778 0.97777778 0.97777778 0.97777778 0.97777778\n",
            " 0.97777778 0.95555556 0.95555556 0.95555556 0.95555556 0.95555556\n",
            " 0.95555556 0.95555556 0.95555556 0.95555556 0.95555556 0.95555556\n",
            " 0.95555556 0.95555556 0.93333333 0.93333333 0.93333333 0.93333333\n",
            " 0.91111111]\n"
          ]
        }
      ]
    },
    {
      "cell_type": "code",
      "metadata": {
        "id": "NBox5HJYnZJD",
        "colab": {
          "base_uri": "https://localhost:8080/"
        },
        "outputId": "d81712e9-9122-4397-c1cd-9e897e9dff7a"
      },
      "source": [
        "print( \"The best accuracy was with\", mean_acc.max(), \"with k=\", mean_acc.argmax()+1) "
      ],
      "execution_count": null,
      "outputs": [
        {
          "output_type": "stream",
          "name": "stdout",
          "text": [
            "The best accuracy was with 0.9777777777777777 with k= 1\n"
          ]
        }
      ]
    },
    {
      "cell_type": "code",
      "metadata": {
        "id": "_dpyJyYSnZJD",
        "colab": {
          "base_uri": "https://localhost:8080/",
          "height": 297
        },
        "outputId": "c29d22e5-a3ac-471f-c45d-7fc19412f025"
      },
      "source": [
        "plt.plot(range(1,Ks),mean_acc,'g')\n",
        "plt.legend(('Accuracy '))\n",
        "plt.ylabel('Accuracy ')\n",
        "plt.xlabel('Number of Neighbors (K)')\n",
        "plt.tight_layout()\n",
        "plt.show()"
      ],
      "execution_count": null,
      "outputs": [
        {
          "output_type": "display_data",
          "data": {
            "image/png": "[encoded data removed]",
            "text/plain": [
              "<Figure size 432x288 with 1 Axes>"
            ]
          },
          "metadata": {
            "needs_background": "light"
          }
        }
      ]
    }
  ]
}